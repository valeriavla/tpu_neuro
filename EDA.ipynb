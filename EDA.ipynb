{
  "nbformat": 4,
  "nbformat_minor": 0,
  "metadata": {
    "colab": {
      "provenance": [],
      "include_colab_link": true
    },
    "kernelspec": {
      "name": "python3",
      "display_name": "Python 3"
    },
    "language_info": {
      "name": "python"
    }
  },
  "cells": [
    {
      "cell_type": "markdown",
      "metadata": {
        "id": "view-in-github",
        "colab_type": "text"
      },
      "source": [
        "<a href=\"https://colab.research.google.com/github/valeriavla/tpu_neuro/blob/main/EDA.ipynb\" target=\"_parent\"><img src=\"https://colab.research.google.com/assets/colab-badge.svg\" alt=\"Open In Colab\"/></a>"
      ]
    },
    {
      "cell_type": "code",
      "execution_count": null,
      "metadata": {
        "id": "M67BYw75njaU",
        "outputId": "b5ec4c33-b7f8-4f13-d3b7-edd702e9c39b",
        "colab": {
          "base_uri": "https://localhost:8080/"
        }
      },
      "outputs": [
        {
          "output_type": "stream",
          "name": "stdout",
          "text": [
            "Cloning into 'tpu_graphs'...\n",
            "remote: Enumerating objects: 278, done.\u001b[K\n",
            "remote: Counting objects: 100% (38/38), done.\u001b[K\n",
            "remote: Compressing objects: 100% (14/14), done.\u001b[K\n",
            "remote: Total 278 (delta 29), reused 24 (delta 24), pack-reused 240\u001b[K\n",
            "Receiving objects: 100% (278/278), 231.20 KiB | 2.51 MiB/s, done.\n",
            "Resolving deltas: 100% (151/151), done.\n"
          ]
        }
      ],
      "source": [
        "# cloning git repo\n",
        "!git clone https://github.com/google-research-datasets/tpu_graphs.git"
      ]
    },
    {
      "cell_type": "code",
      "source": [
        "from google.colab import drive\n",
        "drive.mount('/content/drive')"
      ],
      "metadata": {
        "id": "AkRj53I_rgft",
        "colab": {
          "base_uri": "https://localhost:8080/"
        },
        "outputId": "0e33be61-5594-44ef-9dcb-9af950bba943"
      },
      "execution_count": null,
      "outputs": [
        {
          "output_type": "stream",
          "name": "stdout",
          "text": [
            "Mounted at /content/drive\n"
          ]
        }
      ]
    },
    {
      "cell_type": "code",
      "source": [
        "import pandas as pd\n",
        "pd.DataFrame({'a':[1,2]}).to_csv('sample.csv', index=False)"
      ],
      "metadata": {
        "id": "fVdd4y_vsElf"
      },
      "execution_count": null,
      "outputs": []
    },
    {
      "cell_type": "code",
      "source": [
        "!cd tpu_graphs/"
      ],
      "metadata": {
        "id": "BR1irZLWrNHJ"
      },
      "execution_count": null,
      "outputs": []
    },
    {
      "cell_type": "code",
      "source": [
        "!python3 echo_download_commands.py | bash"
      ],
      "metadata": {
        "id": "1Smxm-skrINQ",
        "outputId": "e59e7dd3-9752-490f-888e-f0b3a9c3b431",
        "colab": {
          "base_uri": "https://localhost:8080/"
        }
      },
      "execution_count": null,
      "outputs": [
        {
          "output_type": "stream",
          "name": "stdout",
          "text": [
            "python3: can't open file '/content/echo_download_commands.py': [Errno 2] No such file or directory\n"
          ]
        }
      ]
    }
  ]
}